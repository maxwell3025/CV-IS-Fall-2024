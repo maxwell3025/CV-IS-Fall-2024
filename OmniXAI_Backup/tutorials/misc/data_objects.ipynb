{
 "cells": [
  {
   "cell_type": "markdown",
   "metadata": {},
   "source": [
    "### Examples of data objects"
   ]
  },
  {
   "cell_type": "markdown",
   "metadata": {},
   "source": [
    "The library supports three data types `Tabular`, `Image` and `Text` defined in the modules `omnixai.data.tabular`, `omnixai.data.image` and `omnixai.data.text`, respectively. All the supported explainers take one of these data objects as their inputs when generating explanations, e.g., an explainer vision tasks takes an `Image` object as its input. These data objects can be constructed easily from pandas dataframes, numpy arrays, Pillow images or strings. This notebook will show how to use these data objects."
   ]
  },
  {
   "cell_type": "markdown",
   "metadata": {},
   "source": [
    "#### Tabular data\n",
    "Suppose we have a pandas dataframe representing a tabular dataset with both categorical and continuous-valued features:"
   ]
  },
  {
   "cell_type": "code",
   "execution_count": 1,
   "metadata": {},
   "source": [
    "import pandas as pd\n",
    "\n",
    "df = pd.DataFrame(\n",
    "    data=[[1, 2, 3, 'male'], [4, 5, 6, 'female']],\n",
    "    columns=['a', 'b', 'c', 'd']\n",
    ")"
   ],
   "outputs": []
  },
  {
   "cell_type": "markdown",
   "metadata": {},
   "source": [
    "The first three columns are continuous-valued features and the last column is the categorical feature. Given this dataframe, we can easily construct a `Tabular` instance by specifying the dataframe and the categorical columns:"
   ]
  },
  {
   "cell_type": "code",
   "execution_count": 2,
   "metadata": {},
   "source": [
    "from omnixai.data.tabular import Tabular\n",
    "\n",
    "x = Tabular(\n",
    "    data=df,\n",
    "    categorical_columns=['d']\n",
    ")\n",
    "print(x)"
   ],
   "outputs": []
  },
  {
   "cell_type": "markdown",
   "metadata": {},
   "source": [
    "If we want to construct a `Tabular` instance with a numpy array, we need to set the feature columns:"
   ]
  },
  {
   "cell_type": "code",
   "execution_count": 3,
   "metadata": {},
   "source": [
    "x = Tabular(\n",
    "    data=df.values,\n",
    "    feature_columns=['a', 'b', 'c', 'd'],\n",
    "    categorical_columns=['d']\n",
    ")\n",
    "print(x)"
   ],
   "outputs": []
  },
  {
   "cell_type": "markdown",
   "metadata": {},
   "source": [
    "`Tabular` has several useful methods:"
   ]
  },
  {
   "cell_type": "code",
   "execution_count": 4,
   "metadata": {},
   "source": [
    "# Get the data shape\n",
    "print(f\"Shape: {x.shape}\")\n",
    "# Get the raw data values\n",
    "print(f\"Raw values:\\n {x.values}\")\n",
    "# Get the categorical feature columns\n",
    "print(f\"Categorical features: {x.categorical_columns}\")\n",
    "# Get the continuous-valued feature columns\n",
    "print(f\"Continuous-valued features: {x.continuous_columns}\")\n",
    "# Get all the feature columns\n",
    "print(f\"All feature columns: {x.feature_columns}\")"
   ],
   "outputs": []
  },
  {
   "cell_type": "markdown",
   "metadata": {},
   "source": [
    "A `Tabular` instance can be converted into a pandas dataframe or a numpy array:"
   ]
  },
  {
   "cell_type": "code",
   "execution_count": 5,
   "metadata": {},
   "source": [
    "print(x.to_pd())\n",
    "print(x.to_numpy())"
   ],
   "outputs": []
  },
  {
   "cell_type": "markdown",
   "metadata": {},
   "source": [
    "The dataset represented by `Tabular` may have a target/label column, e.g., class labels in classification tasks. In the following example, the last column is the target/label column."
   ]
  },
  {
   "cell_type": "code",
   "execution_count": 6,
   "metadata": {},
   "source": [
    "df = pd.DataFrame(\n",
    "    data=[[1, 2, 3, 'male', 'yes'], [4, 5, 6, 'female', 'no']],\n",
    "    columns=['a', 'b', 'c', 'd', 'label']\n",
    ")"
   ],
   "outputs": []
  },
  {
   "cell_type": "markdown",
   "metadata": {},
   "source": [
    "To construct a `Tabular` instance, besides setting categorical feature columns, we also need to set the target/label column:"
   ]
  },
  {
   "cell_type": "code",
   "execution_count": 7,
   "metadata": {},
   "source": [
    "x = Tabular(\n",
    "    data=df,\n",
    "    categorical_columns=['d'],\n",
    "    target_column='label'\n",
    ")\n",
    "print(x)\n",
    "print(f\"Target column: {x.target_column}\")"
   ],
   "outputs": []
  },
  {
   "cell_type": "markdown",
   "metadata": {},
   "source": [
    "To get a subset of the rows of `x`:"
   ]
  },
  {
   "cell_type": "code",
   "execution_count": 8,
   "metadata": {},
   "source": [
    "print(\"The first row:\")\n",
    "print(x[0])\n",
    "print(\"The second row:\")\n",
    "print(x[1])\n",
    "print(\"Swap the two rows:\")\n",
    "print(x[[1, 0]])"
   ],
   "outputs": []
  },
  {
   "cell_type": "markdown",
   "metadata": {},
   "source": [
    "#### Image data\n",
    "An `Image` object can be constructed from a numpy array (a batch of images) or a Pillow image. For example, a numpy array contains a batch of MNIST digit images:"
   ]
  },
  {
   "cell_type": "code",
   "execution_count": 9,
   "metadata": {},
   "source": [
    "import torchvision\n",
    "\n",
    "test_data = torchvision.datasets.MNIST(root='../data', train=False, download=True)\n",
    "imgs = test_data.data.numpy()\n",
    "print(imgs.shape)"
   ],
   "outputs": []
  },
  {
   "cell_type": "markdown",
   "metadata": {},
   "source": [
    "An `Image` object can be created as follows:"
   ]
  },
  {
   "cell_type": "code",
   "execution_count": 10,
   "metadata": {},
   "source": [
    "from omnixai.data.image import Image\n",
    "\n",
    "# `batched = True` means `data` contains a batch of images with \n",
    "# shape `(batch_size, height, width)` or `(batch_size, height, width, channel)`.\n",
    "images = Image(data=imgs, batched=True)"
   ],
   "outputs": []
  },
  {
   "cell_type": "markdown",
   "metadata": {},
   "source": [
    "Here are some useful functions:"
   ]
  },
  {
   "cell_type": "code",
   "execution_count": 11,
   "metadata": {},
   "source": [
    "print(f\"Data shape: {images.shape}\")\n",
    "print(f\"Image shape: {images.image_shape}\")\n",
    "\n",
    "print(f\"The first image (Pillow):\")\n",
    "display(images[0].to_pil())\n",
    "print(f\"The second image (Pillow):\")\n",
    "display(images[1].to_pil())\n",
    "\n",
    "print(\"Loop:\")\n",
    "for im in images[:5]:\n",
    "    print(im.shape)"
   ],
   "outputs": []
  },
  {
   "cell_type": "markdown",
   "metadata": {},
   "source": [
    "We can also convert `Image` into a numpy array:"
   ]
  },
  {
   "cell_type": "code",
   "execution_count": 12,
   "metadata": {},
   "source": [
    "print(f\"Numpy array shape: {images.to_numpy().shape}\")\n",
    "print(f\"Numpy array shape: {images.to_numpy(keepdim=True).shape}\")\n",
    "print(f\"Numpy array shape: {images.to_numpy(hwc=False, keepdim=True).shape}\")"
   ],
   "outputs": []
  },
  {
   "cell_type": "markdown",
   "metadata": {},
   "source": [
    "A color image example:"
   ]
  },
  {
   "cell_type": "code",
   "execution_count": 13,
   "metadata": {},
   "source": [
    "from PIL import Image as PilImage\n",
    "\n",
    "img = Image(PilImage.open('../data/images/camera.jpg').convert('RGB'))\n",
    "print(f\"Data shape: {img.shape}\")\n",
    "print(f\"Image shape: {img.image_shape}\")\n",
    "print(f\"The image (Pillow):\")\n",
    "# `to_pil` returns a single Pillow image if `batch_size = 1` or a list of Pillow images if `batch_size > 1`.\n",
    "display(img.to_pil())"
   ],
   "outputs": []
  },
  {
   "cell_type": "code",
   "execution_count": 14,
   "metadata": {},
   "source": [
    "print(f\"Numpy array shape: {img.to_numpy().shape}\")\n",
    "print(f\"Numpy array shape: {img.to_numpy(keepdim=True).shape}\")\n",
    "print(f\"Numpy array shape: {img.to_numpy(hwc=False, keepdim=True).shape}\")"
   ],
   "outputs": []
  },
  {
   "cell_type": "markdown",
   "metadata": {},
   "source": [
    "#### Text data\n",
    "A `Text` object represents a batch of texts or sentences stored in a list. For example,"
   ]
  },
  {
   "cell_type": "code",
   "execution_count": 15,
   "metadata": {},
   "source": [
    "from omnixai.data.text import Text\n",
    "\n",
    "x = Text([\n",
    "    \"What a great movie! if you have no taste.\",\n",
    "    \"it was a fantastic performance!\",\n",
    "    \"best film ever\",\n",
    "    \"such a great show!\",\n",
    "    \"it was a horrible movie\",\n",
    "    \"i've never watched something as bad\"\n",
    "])"
   ],
   "outputs": []
  },
  {
   "cell_type": "markdown",
   "metadata": {},
   "source": [
    "Here are some useful functions:"
   ]
  },
  {
   "cell_type": "code",
   "execution_count": 16,
   "metadata": {},
   "source": [
    "print(f\"Number of sentences: {len(x)}\")\n",
    "print(f\"The first sentence: {x[0]}\")\n",
    "print(f\"Raw strings: {x.values}\")"
   ],
   "outputs": []
  },
  {
   "cell_type": "markdown",
   "metadata": {},
   "source": [
    "Convert texts/sentences into a list of tokens:"
   ]
  },
  {
   "cell_type": "code",
   "execution_count": 17,
   "metadata": {},
   "source": [
    "print(x.to_tokens())"
   ],
   "outputs": []
  },
  {
   "cell_type": "markdown",
   "metadata": {},
   "source": [
    "#### Time series data"
   ]
  },
  {
   "cell_type": "markdown",
   "metadata": {},
   "source": [
    "The `Timeseries` class represents a time series. The values of metrics/variables are stored in a numpy array\n",
    "with shape `(timestamps, num_variables)`. We can construct a ``Timeseries`` instance from a pandas dataframe, where the index indicates the timestamps and the columns are the variables."
   ]
  },
  {
   "cell_type": "code",
   "execution_count": 18,
   "metadata": {},
   "source": [
    "from omnixai.data.timeseries import Timeseries\n",
    "df = pd.DataFrame(\n",
    "   [['2017-12-27', 1263.94091, 394.507, 16.530],\n",
    "    ['2017-12-28', 1299.86398, 506.424, 14.162],\n",
    "    ['2017-12-29', 1319.76541, 610.314, 15.173]],\n",
    "   columns=['Date', 'Consumption', 'Wind', 'Solar']\n",
    ")\n",
    "df = df.set_index('Date')\n",
    "df.index = pd.to_datetime(df.index)"
   ],
   "outputs": []
  },
  {
   "cell_type": "code",
   "execution_count": 19,
   "metadata": {},
   "source": [
    "ts = Timeseries.from_pd(df)\n",
    "print(ts)"
   ],
   "outputs": []
  },
  {
   "cell_type": "markdown",
   "metadata": {},
   "source": [
    "Here are some useful functions:"
   ]
  },
  {
   "cell_type": "code",
   "execution_count": 20,
   "metadata": {},
   "source": [
    "print(f\"Length of ts: {len(ts)}\")\n",
    "print(f\"Length of ts: {ts.ts_len}\")\n",
    "print(f\"Metrics: {ts.columns}\")\n",
    "print(f\"Time-series shape: {ts.shape}\")\n",
    "print(\"Select rows:\")\n",
    "print(ts[[1, 0]])\n",
    "print(\"To pandas dataframe:\")\n",
    "print(ts.to_pd())"
   ],
   "outputs": []
  }
 ],
 "metadata": {
  "kernelspec": {
   "display_name": "Python 3",
   "language": "python",
   "name": "python3"
  },
  "language_info": {
   "codemirror_mode": {
    "name": "ipython",
    "version": 3
   },
   "file_extension": ".py",
   "mimetype": "text/x-python",
   "name": "python",
   "nbconvert_exporter": "python",
   "pygments_lexer": "ipython3",
   "version": "3.7.5"
  }
 },
 "nbformat": 4,
 "nbformat_minor": 2
}
