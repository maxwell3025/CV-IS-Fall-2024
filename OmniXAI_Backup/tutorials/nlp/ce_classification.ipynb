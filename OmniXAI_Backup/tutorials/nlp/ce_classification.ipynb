{
 "cells": [
  {
   "cell_type": "markdown",
   "metadata": {},
   "source": [
    "### Counterfactual explanation for text classification"
   ]
  },
  {
   "cell_type": "markdown",
   "metadata": {},
   "source": [
    "An example of counterfactual explanation on sentiment analysis. The method implemented in the library is based on the Polyjuice model developed by Wu et al. Please cite the work: https://github.com/tongshuangwu/polyjuice if using this explainer."
   ]
  },
  {
   "cell_type": "code",
   "metadata": {
    "ExecuteTime": {
     "end_time": "2024-10-17T19:56:34.437682Z",
     "start_time": "2024-10-17T19:56:34.295338Z"
    }
   },
   "source": [
    "# This default renderer is used for sphinx docs only. Please delete this cell in IPython.\n",
    "import plotly.io as pio\n",
    "pio.renderers.default = \"png\""
   ],
   "outputs": [],
   "execution_count": 1
  },
  {
   "cell_type": "code",
   "metadata": {
    "ExecuteTime": {
     "end_time": "2024-10-17T19:58:17.175277Z",
     "start_time": "2024-10-17T19:58:17.171730Z"
    }
   },
   "source": [
    "import transformers\n",
    "import numpy as np\n",
    "from omnixai.data.text import Text\n",
    "import os\n",
    "import sys\n",
    "sys.path.append(os.path.abspath('/omnixai/explainers/nlp/counterfactual/polyjuice'))\n",
    "from omnixai.explainers.nlp.counterfactual.polyjuice import Polyjuice"
   ],
   "outputs": [],
   "execution_count": 11
  },
  {
   "cell_type": "code",
   "metadata": {
    "ExecuteTime": {
     "end_time": "2024-10-17T19:58:19.197143Z",
     "start_time": "2024-10-17T19:58:19.107714Z"
    }
   },
   "source": [
    "# A transformer model for sentiment analysis\n",
    "model = transformers.pipeline(\n",
    "    'sentiment-analysis',\n",
    "    model='distilbert-base-uncased-finetuned-sst-2-english',\n",
    "    return_all_scores=True\n",
    ")\n",
    "idx2label = {\"NEGATIVE\": 0, \"POSITIVE\": 1}"
   ],
   "outputs": [
    {
     "name": "stderr",
     "output_type": "stream",
     "text": [
      "Hardware accelerator e.g. GPU is available in the environment, but no `device` argument is passed to the `Pipeline` object. Model will be on CPU.\n"
     ]
    }
   ],
   "execution_count": 12
  },
  {
   "cell_type": "code",
   "metadata": {
    "ExecuteTime": {
     "end_time": "2024-10-17T19:58:20.212839Z",
     "start_time": "2024-10-17T19:58:20.210331Z"
    }
   },
   "source": [
    "# Build the prediction function, e.g., the outputs of the prediction function are the class probabilities.\n",
    "def _predict(x):\n",
    "    scores = []\n",
    "    predictions = model(x.values)\n",
    "    for pred in predictions:\n",
    "        score = [0.0, 0.0]\n",
    "        for d in pred:\n",
    "            if d['label'] == 'NEGATIVE':\n",
    "                score[0] = d['score']\n",
    "            else:\n",
    "                score[1] = d['score']\n",
    "        scores.append(score)\n",
    "    return np.array(scores)"
   ],
   "outputs": [],
   "execution_count": 13
  },
  {
   "cell_type": "code",
   "metadata": {
    "ExecuteTime": {
     "end_time": "2024-10-17T19:58:21.091577Z",
     "start_time": "2024-10-17T19:58:21.071706Z"
    }
   },
   "source": [
    "# Initialize the counterfactual explainer based on Polyjuice\n",
    "explainer = Polyjuice(predict_function=_predict)"
   ],
   "outputs": [
    {
     "ename": "ModuleNotFoundError",
     "evalue": "No module named 'polyjuice'",
     "output_type": "error",
     "traceback": [
      "\u001B[0;31m---------------------------------------------------------------------------\u001B[0m",
      "\u001B[0;31mModuleNotFoundError\u001B[0m                       Traceback (most recent call last)",
      "Cell \u001B[0;32mIn[14], line 2\u001B[0m\n\u001B[1;32m      1\u001B[0m \u001B[38;5;66;03m# Initialize the counterfactual explainer based on Polyjuice\u001B[39;00m\n\u001B[0;32m----> 2\u001B[0m explainer \u001B[38;5;241m=\u001B[39m \u001B[43mPolyjuice\u001B[49m\u001B[43m(\u001B[49m\u001B[43mpredict_function\u001B[49m\u001B[38;5;241;43m=\u001B[39;49m\u001B[43m_predict\u001B[49m\u001B[43m)\u001B[49m\n",
      "File \u001B[0;32m~/Coding/CV-IS-Fall-2024/OmniXAI/omnixai/explainers/nlp/counterfactual/polyjuice.py:45\u001B[0m, in \u001B[0;36mPolyjuice.__init__\u001B[0;34m(self, predict_function, mode, **kwargs)\u001B[0m\n\u001B[1;32m     42\u001B[0m \u001B[38;5;28mself\u001B[39m\u001B[38;5;241m.\u001B[39mmode \u001B[38;5;241m=\u001B[39m mode\n\u001B[1;32m     43\u001B[0m \u001B[38;5;28mself\u001B[39m\u001B[38;5;241m.\u001B[39mpredict_function \u001B[38;5;241m=\u001B[39m predict_function\n\u001B[0;32m---> 45\u001B[0m \u001B[38;5;28;01mfrom\u001B[39;00m \u001B[38;5;21;01mpolyjuice\u001B[39;00m \u001B[38;5;28;01mimport\u001B[39;00m Polyjuice\n\u001B[1;32m     46\u001B[0m \u001B[38;5;28mself\u001B[39m\u001B[38;5;241m.\u001B[39mexplainer \u001B[38;5;241m=\u001B[39m Polyjuice(\n\u001B[1;32m     47\u001B[0m     model_path\u001B[38;5;241m=\u001B[39mkwargs\u001B[38;5;241m.\u001B[39mget(\u001B[38;5;124m\"\u001B[39m\u001B[38;5;124mmodel_path\u001B[39m\u001B[38;5;124m\"\u001B[39m, \u001B[38;5;124m\"\u001B[39m\u001B[38;5;124muw-hai/polyjuice\u001B[39m\u001B[38;5;124m\"\u001B[39m),\n\u001B[1;32m     48\u001B[0m     is_cuda\u001B[38;5;241m=\u001B[39mkwargs\u001B[38;5;241m.\u001B[39mget(\u001B[38;5;124m\"\u001B[39m\u001B[38;5;124mcuda\u001B[39m\u001B[38;5;124m\"\u001B[39m, \u001B[38;5;28;01mTrue\u001B[39;00m)\n\u001B[1;32m     49\u001B[0m )\n",
      "\u001B[0;31mModuleNotFoundError\u001B[0m: No module named 'polyjuice'"
     ]
    }
   ],
   "execution_count": 14
  },
  {
   "cell_type": "code",
   "metadata": {
    "ExecuteTime": {
     "end_time": "2024-10-17T19:58:21.782857Z",
     "start_time": "2024-10-17T19:58:21.769583Z"
    }
   },
   "source": [
    "x = Text([\n",
    "    \"What a great movie! if you have no taste.\",\n",
    "    \"it was a fantastic performance!\",\n",
    "    \"best film ever\",\n",
    "    \"such a great show!\",\n",
    "    \"it was a horrible movie\",\n",
    "    \"i've never watched something as bad\"\n",
    "])\n",
    "explanations = explainer.explain(x)\n",
    "explanations.ipython_plot()"
   ],
   "outputs": [
    {
     "ename": "NameError",
     "evalue": "name 'explainer' is not defined",
     "output_type": "error",
     "traceback": [
      "\u001B[0;31m---------------------------------------------------------------------------\u001B[0m",
      "\u001B[0;31mNameError\u001B[0m                                 Traceback (most recent call last)",
      "Cell \u001B[0;32mIn[15], line 9\u001B[0m\n\u001B[1;32m      1\u001B[0m x \u001B[38;5;241m=\u001B[39m Text([\n\u001B[1;32m      2\u001B[0m     \u001B[38;5;124m\"\u001B[39m\u001B[38;5;124mWhat a great movie! if you have no taste.\u001B[39m\u001B[38;5;124m\"\u001B[39m,\n\u001B[1;32m      3\u001B[0m     \u001B[38;5;124m\"\u001B[39m\u001B[38;5;124mit was a fantastic performance!\u001B[39m\u001B[38;5;124m\"\u001B[39m,\n\u001B[0;32m   (...)\u001B[0m\n\u001B[1;32m      7\u001B[0m     \u001B[38;5;124m\"\u001B[39m\u001B[38;5;124mi\u001B[39m\u001B[38;5;124m'\u001B[39m\u001B[38;5;124mve never watched something as bad\u001B[39m\u001B[38;5;124m\"\u001B[39m\n\u001B[1;32m      8\u001B[0m ])\n\u001B[0;32m----> 9\u001B[0m explanations \u001B[38;5;241m=\u001B[39m \u001B[43mexplainer\u001B[49m\u001B[38;5;241m.\u001B[39mexplain(x)\n\u001B[1;32m     10\u001B[0m explanations\u001B[38;5;241m.\u001B[39mipython_plot()\n",
      "\u001B[0;31mNameError\u001B[0m: name 'explainer' is not defined"
     ]
    }
   ],
   "execution_count": 15
  },
  {
   "metadata": {},
   "cell_type": "code",
   "outputs": [],
   "execution_count": null,
   "source": ""
  }
 ],
 "metadata": {
  "kernelspec": {
   "display_name": "Python 3",
   "language": "python",
   "name": "python3"
  },
  "language_info": {
   "codemirror_mode": {
    "name": "ipython",
    "version": 3
   },
   "file_extension": ".py",
   "mimetype": "text/x-python",
   "name": "python",
   "nbconvert_exporter": "python",
   "pygments_lexer": "ipython3",
   "version": "3.7.5"
  }
 },
 "nbformat": 4,
 "nbformat_minor": 2
}
