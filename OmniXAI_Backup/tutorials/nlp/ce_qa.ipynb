{
 "cells": [
  {
   "cell_type": "markdown",
   "metadata": {},
   "source": [
    "### Counterfactual explanation for question answering"
   ]
  },
  {
   "cell_type": "markdown",
   "metadata": {},
   "source": [
    "An example of counterfactual explanation on question answering. The method implemented in the library is based on the Polyjuice model developed by Wu et al. Please cite the work: https://github.com/tongshuangwu/polyjuice if using this explainer."
   ]
  },
  {
   "cell_type": "code",
   "metadata": {
    "ExecuteTime": {
     "end_time": "2024-10-19T04:03:42.823216Z",
     "start_time": "2024-10-19T04:03:42.819919Z"
    }
   },
   "source": [
    "# This default renderer is used for sphinx docs only. Please delete this cell in IPython.\n",
    "import plotly.io as pio\n",
    "pio.renderers.default = \"png\""
   ],
   "outputs": [],
   "execution_count": 26
  },
  {
   "cell_type": "code",
   "metadata": {
    "ExecuteTime": {
     "end_time": "2024-10-19T04:04:56.280205Z",
     "start_time": "2024-10-19T04:04:56.277227Z"
    }
   },
   "source": [
    "import unittest\n",
    "from transformers import pipeline\n",
    "from omnixai.data.text import Text\n",
    "from omnixai.explainers.nlp.counterfactual.polyjuice import Polyjuice"
   ],
   "outputs": [],
   "execution_count": 32
  },
  {
   "cell_type": "code",
   "metadata": {
    "ExecuteTime": {
     "end_time": "2024-10-19T04:03:46.460500Z",
     "start_time": "2024-10-19T04:03:46.289188Z"
    }
   },
   "source": [
    "# Load the pretrained model for question answering\n",
    "model_name = \"deepset/roberta-base-squad2\"\n",
    "model = pipeline('question-answering', model=model_name, tokenizer=model_name)"
   ],
   "outputs": [
    {
     "name": "stderr",
     "output_type": "stream",
     "text": [
      "Hardware accelerator e.g. GPU is available in the environment, but no `device` argument is passed to the `Pipeline` object. Model will be on CPU.\n"
     ]
    }
   ],
   "execution_count": 28
  },
  {
   "cell_type": "code",
   "metadata": {
    "ExecuteTime": {
     "end_time": "2024-10-19T04:03:47.201623Z",
     "start_time": "2024-10-19T04:03:47.197474Z"
    }
   },
   "source": [
    "# Build the prediction function, e.g., the context and question are seperated by \"[SEP]\".\n",
    "def _predict(x: Text):\n",
    "    x = x.split(sep=\"[SEP]\")\n",
    "    inputs = [{\"context\": y[0], \"question\": y[1]} for y in x]\n",
    "    outputs = model(inputs)\n",
    "    if isinstance(outputs, dict):\n",
    "        outputs = [outputs]\n",
    "    return [output[\"answer\"] for output in outputs]"
   ],
   "outputs": [],
   "execution_count": 29
  },
  {
   "cell_type": "code",
   "metadata": {
    "ExecuteTime": {
     "end_time": "2024-10-19T04:03:48.547838Z",
     "start_time": "2024-10-19T04:03:48.529718Z"
    }
   },
   "source": [
    "# Initialize the counterfactual explainer based on Polyjuice\n",
    "explainer = Polyjuice(predict_function=_predict, mode=\"qa\")"
   ],
   "outputs": [
    {
     "ename": "ModuleNotFoundError",
     "evalue": "No module named 'polyjuice'",
     "output_type": "error",
     "traceback": [
      "\u001B[0;31m---------------------------------------------------------------------------\u001B[0m",
      "\u001B[0;31mModuleNotFoundError\u001B[0m                       Traceback (most recent call last)",
      "Cell \u001B[0;32mIn[30], line 2\u001B[0m\n\u001B[1;32m      1\u001B[0m \u001B[38;5;66;03m# Initialize the counterfactual explainer based on Polyjuice\u001B[39;00m\n\u001B[0;32m----> 2\u001B[0m explainer \u001B[38;5;241m=\u001B[39m \u001B[43mPolyjuice\u001B[49m\u001B[43m(\u001B[49m\u001B[43mpredict_function\u001B[49m\u001B[38;5;241;43m=\u001B[39;49m\u001B[43m_predict\u001B[49m\u001B[43m,\u001B[49m\u001B[43m \u001B[49m\u001B[43mmode\u001B[49m\u001B[38;5;241;43m=\u001B[39;49m\u001B[38;5;124;43m\"\u001B[39;49m\u001B[38;5;124;43mqa\u001B[39;49m\u001B[38;5;124;43m\"\u001B[39;49m\u001B[43m)\u001B[49m\n",
      "File \u001B[0;32m~/Coding/CV-IS-Fall-2024/OmniXAI/omnixai/explainers/nlp/counterfactual/polyjuice.py:45\u001B[0m, in \u001B[0;36mPolyjuice.__init__\u001B[0;34m(self, predict_function, mode, **kwargs)\u001B[0m\n\u001B[1;32m     42\u001B[0m \u001B[38;5;28mself\u001B[39m\u001B[38;5;241m.\u001B[39mmode \u001B[38;5;241m=\u001B[39m mode\n\u001B[1;32m     43\u001B[0m \u001B[38;5;28mself\u001B[39m\u001B[38;5;241m.\u001B[39mpredict_function \u001B[38;5;241m=\u001B[39m predict_function\n\u001B[0;32m---> 45\u001B[0m \u001B[38;5;28;01mfrom\u001B[39;00m \u001B[38;5;21;01mpolyjuice\u001B[39;00m \u001B[38;5;28;01mimport\u001B[39;00m Polyjuice\n\u001B[1;32m     46\u001B[0m \u001B[38;5;28mself\u001B[39m\u001B[38;5;241m.\u001B[39mexplainer \u001B[38;5;241m=\u001B[39m Polyjuice(\n\u001B[1;32m     47\u001B[0m     model_path\u001B[38;5;241m=\u001B[39mkwargs\u001B[38;5;241m.\u001B[39mget(\u001B[38;5;124m\"\u001B[39m\u001B[38;5;124mmodel_path\u001B[39m\u001B[38;5;124m\"\u001B[39m, \u001B[38;5;124m\"\u001B[39m\u001B[38;5;124muw-hai/polyjuice\u001B[39m\u001B[38;5;124m\"\u001B[39m),\n\u001B[1;32m     48\u001B[0m     is_cuda\u001B[38;5;241m=\u001B[39mkwargs\u001B[38;5;241m.\u001B[39mget(\u001B[38;5;124m\"\u001B[39m\u001B[38;5;124mcuda\u001B[39m\u001B[38;5;124m\"\u001B[39m, \u001B[38;5;28;01mTrue\u001B[39;00m)\n\u001B[1;32m     49\u001B[0m )\n",
      "\u001B[0;31mModuleNotFoundError\u001B[0m: No module named 'polyjuice'"
     ]
    }
   ],
   "execution_count": 30
  },
  {
   "cell_type": "code",
   "metadata": {
    "ExecuteTime": {
     "end_time": "2024-10-19T04:03:50.572597Z",
     "start_time": "2024-10-19T04:03:50.558108Z"
    }
   },
   "source": [
    "x = Text([\n",
    "    \"The option to convert models between FARM and transformers gives freedom to the user and let people easily switch between frameworks. [SEP] \"\n",
    "    \"What can people do with model coversion?\",\n",
    "    \"Electric vehicles emit much less harmful pollutants than conventional vehicles and ultimately, create a cleaner environment for human beings. [SEP] \"\n",
    "    \"what is the result of using eletric vehicles?\"\n",
    "])\n",
    "explanations = explainer.explain(x)\n",
    "explanations.ipython_plot(index=0)"
   ],
   "outputs": [
    {
     "ename": "NameError",
     "evalue": "name 'explainer' is not defined",
     "output_type": "error",
     "traceback": [
      "\u001B[0;31m---------------------------------------------------------------------------\u001B[0m",
      "\u001B[0;31mNameError\u001B[0m                                 Traceback (most recent call last)",
      "Cell \u001B[0;32mIn[31], line 7\u001B[0m\n\u001B[1;32m      1\u001B[0m x \u001B[38;5;241m=\u001B[39m Text([\n\u001B[1;32m      2\u001B[0m     \u001B[38;5;124m\"\u001B[39m\u001B[38;5;124mThe option to convert models between FARM and transformers gives freedom to the user and let people easily switch between frameworks. [SEP] \u001B[39m\u001B[38;5;124m\"\u001B[39m\n\u001B[1;32m      3\u001B[0m     \u001B[38;5;124m\"\u001B[39m\u001B[38;5;124mWhat can people do with model coversion?\u001B[39m\u001B[38;5;124m\"\u001B[39m,\n\u001B[1;32m      4\u001B[0m     \u001B[38;5;124m\"\u001B[39m\u001B[38;5;124mElectric vehicles emit much less harmful pollutants than conventional vehicles and ultimately, create a cleaner environment for human beings. [SEP] \u001B[39m\u001B[38;5;124m\"\u001B[39m\n\u001B[1;32m      5\u001B[0m     \u001B[38;5;124m\"\u001B[39m\u001B[38;5;124mwhat is the result of using eletric vehicles?\u001B[39m\u001B[38;5;124m\"\u001B[39m\n\u001B[1;32m      6\u001B[0m ])\n\u001B[0;32m----> 7\u001B[0m explanations \u001B[38;5;241m=\u001B[39m \u001B[43mexplainer\u001B[49m\u001B[38;5;241m.\u001B[39mexplain(x)\n\u001B[1;32m      8\u001B[0m explanations\u001B[38;5;241m.\u001B[39mipython_plot(index\u001B[38;5;241m=\u001B[39m\u001B[38;5;241m0\u001B[39m)\n",
      "\u001B[0;31mNameError\u001B[0m: name 'explainer' is not defined"
     ]
    }
   ],
   "execution_count": 31
  },
  {
   "cell_type": "code",
   "metadata": {
    "ExecuteTime": {
     "end_time": "2024-10-19T04:02:28.557852Z",
     "start_time": "2024-10-19T04:02:28.545627Z"
    }
   },
   "source": [
    "explanations.ipython_plot(index=1)"
   ],
   "outputs": [
    {
     "ename": "NameError",
     "evalue": "name 'explanations' is not defined",
     "output_type": "error",
     "traceback": [
      "\u001B[0;31m---------------------------------------------------------------------------\u001B[0m",
      "\u001B[0;31mNameError\u001B[0m                                 Traceback (most recent call last)",
      "Cell \u001B[0;32mIn[25], line 1\u001B[0m\n\u001B[0;32m----> 1\u001B[0m \u001B[43mexplanations\u001B[49m\u001B[38;5;241m.\u001B[39mipython_plot(index\u001B[38;5;241m=\u001B[39m\u001B[38;5;241m1\u001B[39m)\n",
      "\u001B[0;31mNameError\u001B[0m: name 'explanations' is not defined"
     ]
    }
   ],
   "execution_count": 25
  }
 ],
 "metadata": {
  "kernelspec": {
   "display_name": "Python 3",
   "language": "python",
   "name": "python3"
  },
  "language_info": {
   "codemirror_mode": {
    "name": "ipython",
    "version": 3
   },
   "file_extension": ".py",
   "mimetype": "text/x-python",
   "name": "python",
   "nbconvert_exporter": "python",
   "pygments_lexer": "ipython3",
   "version": "3.7.5"
  }
 },
 "nbformat": 4,
 "nbformat_minor": 2
}
